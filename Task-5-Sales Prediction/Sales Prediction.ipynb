{
 "cells": [
  {
   "cell_type": "markdown",
   "id": "2ffcb893",
   "metadata": {},
   "source": [
    "# Sales Prediction using Linear Regression"
   ]
  },
  {
   "cell_type": "markdown",
   "id": "7a4f2178",
   "metadata": {},
   "source": [
    "Importing libraries"
   ]
  },
  {
   "cell_type": "code",
   "execution_count": 1,
   "id": "7db2976b",
   "metadata": {},
   "outputs": [],
   "source": [
    "import numpy as np\n",
    "import pandas as pd\n",
    "import matplotlib.pyplot as plt\n",
    "from sklearn import linear_model"
   ]
  },
  {
   "cell_type": "markdown",
   "id": "c8f45be3",
   "metadata": {},
   "source": [
    "Data loading"
   ]
  },
  {
   "cell_type": "code",
   "execution_count": 2,
   "id": "7382967e",
   "metadata": {},
   "outputs": [
    {
     "data": {
      "text/html": [
       "<div>\n",
       "<style scoped>\n",
       "    .dataframe tbody tr th:only-of-type {\n",
       "        vertical-align: middle;\n",
       "    }\n",
       "\n",
       "    .dataframe tbody tr th {\n",
       "        vertical-align: top;\n",
       "    }\n",
       "\n",
       "    .dataframe thead th {\n",
       "        text-align: right;\n",
       "    }\n",
       "</style>\n",
       "<table border=\"1\" class=\"dataframe\">\n",
       "  <thead>\n",
       "    <tr style=\"text-align: right;\">\n",
       "      <th></th>\n",
       "      <th>Unnamed: 0</th>\n",
       "      <th>TV</th>\n",
       "      <th>Radio</th>\n",
       "      <th>Newspaper</th>\n",
       "      <th>Sales</th>\n",
       "    </tr>\n",
       "  </thead>\n",
       "  <tbody>\n",
       "    <tr>\n",
       "      <th>0</th>\n",
       "      <td>1</td>\n",
       "      <td>230.1</td>\n",
       "      <td>37.8</td>\n",
       "      <td>69.2</td>\n",
       "      <td>22.1</td>\n",
       "    </tr>\n",
       "    <tr>\n",
       "      <th>1</th>\n",
       "      <td>2</td>\n",
       "      <td>44.5</td>\n",
       "      <td>39.3</td>\n",
       "      <td>45.1</td>\n",
       "      <td>10.4</td>\n",
       "    </tr>\n",
       "    <tr>\n",
       "      <th>2</th>\n",
       "      <td>3</td>\n",
       "      <td>17.2</td>\n",
       "      <td>45.9</td>\n",
       "      <td>69.3</td>\n",
       "      <td>9.3</td>\n",
       "    </tr>\n",
       "    <tr>\n",
       "      <th>3</th>\n",
       "      <td>4</td>\n",
       "      <td>151.5</td>\n",
       "      <td>41.3</td>\n",
       "      <td>58.5</td>\n",
       "      <td>18.5</td>\n",
       "    </tr>\n",
       "    <tr>\n",
       "      <th>4</th>\n",
       "      <td>5</td>\n",
       "      <td>180.8</td>\n",
       "      <td>10.8</td>\n",
       "      <td>58.4</td>\n",
       "      <td>12.9</td>\n",
       "    </tr>\n",
       "  </tbody>\n",
       "</table>\n",
       "</div>"
      ],
      "text/plain": [
       "   Unnamed: 0     TV  Radio  Newspaper  Sales\n",
       "0           1  230.1   37.8       69.2   22.1\n",
       "1           2   44.5   39.3       45.1   10.4\n",
       "2           3   17.2   45.9       69.3    9.3\n",
       "3           4  151.5   41.3       58.5   18.5\n",
       "4           5  180.8   10.8       58.4   12.9"
      ]
     },
     "execution_count": 2,
     "metadata": {},
     "output_type": "execute_result"
    }
   ],
   "source": [
    "data=pd.read_csv(\"Advertising.csv\")\n",
    "data.head()"
   ]
  },
  {
   "cell_type": "markdown",
   "id": "836c41c5",
   "metadata": {},
   "source": [
    "Now remove the label data from the input data"
   ]
  },
  {
   "cell_type": "code",
   "execution_count": 3,
   "id": "e0bf93b2",
   "metadata": {},
   "outputs": [],
   "source": [
    "x = data.drop('Sales', axis=1).values\n",
    "y = data['Sales'].values\n",
    "X=data.select_dtypes(include=np.number)"
   ]
  },
  {
   "cell_type": "markdown",
   "id": "12dec006",
   "metadata": {},
   "source": [
    "Get the size of both input and label data"
   ]
  },
  {
   "cell_type": "code",
   "execution_count": 4,
   "id": "561032b0",
   "metadata": {},
   "outputs": [
    {
     "data": {
      "text/plain": [
       "((200, 5), (200,))"
      ]
     },
     "execution_count": 4,
     "metadata": {},
     "output_type": "execute_result"
    }
   ],
   "source": [
    "X.shape , y.shape"
   ]
  },
  {
   "cell_type": "markdown",
   "id": "a6054fb5",
   "metadata": {},
   "source": [
    "Now , X contains the data except the label data and Y contains the labeled data\n",
    "\n",
    "Now split the data into training data and testing data in that 20% of data comes under training data and remaining 80% of data comes under the training data"
   ]
  },
  {
   "cell_type": "code",
   "execution_count": 5,
   "id": "1d41497d",
   "metadata": {},
   "outputs": [],
   "source": [
    "from sklearn.model_selection import train_test_split\n",
    "X_train, X_test, y_train, y_test = train_test_split(X, y, test_size=0.2,random_state=42)"
   ]
  },
  {
   "cell_type": "markdown",
   "id": "c37ced32",
   "metadata": {},
   "source": [
    "After spliting of data find the shapes of train data as well as test data"
   ]
  },
  {
   "cell_type": "code",
   "execution_count": 6,
   "id": "e69f54f1",
   "metadata": {},
   "outputs": [
    {
     "data": {
      "text/plain": [
       "((160, 5), (40, 5))"
      ]
     },
     "execution_count": 6,
     "metadata": {},
     "output_type": "execute_result"
    }
   ],
   "source": [
    "X_train.shape, X_test.shape"
   ]
  },
  {
   "cell_type": "markdown",
   "id": "77bbc2b2",
   "metadata": {},
   "source": [
    "Now fit the LinearRegression model"
   ]
  },
  {
   "cell_type": "code",
   "execution_count": 7,
   "id": "6655ac5f",
   "metadata": {},
   "outputs": [
    {
     "data": {
      "text/plain": [
       "LinearRegression()"
      ]
     },
     "execution_count": 7,
     "metadata": {},
     "output_type": "execute_result"
    }
   ],
   "source": [
    "reg = linear_model.LinearRegression()\n",
    "reg.fit(X_train, y_train)"
   ]
  },
  {
   "cell_type": "markdown",
   "id": "12cd3ee6",
   "metadata": {},
   "source": [
    "Now pass the X_train into the model so it display the y_predict values and find the errors."
   ]
  },
  {
   "cell_type": "code",
   "execution_count": 8,
   "id": "d205f6ec",
   "metadata": {},
   "outputs": [
    {
     "name": "stdout",
     "output_type": "stream",
     "text": [
      "Performance of the model on training data :\n",
      "\n",
      "MAE = 1.6570078642530462e-15\n",
      "MSE = 5.4739551251351775e-30\n",
      "RMSE = 2.3396485046124294e-15\n",
      "R_2 = 1.0\n"
     ]
    }
   ],
   "source": [
    "from sklearn.metrics import mean_absolute_error,r2_score,mean_squared_error\n",
    "y_pred1 = reg.predict(X_train)\n",
    "print(f'Performance of the model on training data :\\n')\n",
    "print(f'MAE = {mean_absolute_error(y_train, y_pred1)}')\n",
    "print(f'MSE = {mean_squared_error(y_train, y_pred1)}')\n",
    "print(f'RMSE = {np.sqrt(mean_squared_error(y_train, y_pred1))}')\n",
    "print(f'R_2 = {r2_score(y_train, y_pred1)}')"
   ]
  },
  {
   "cell_type": "markdown",
   "id": "1cbd7770",
   "metadata": {},
   "source": [
    "Now pass the X_test into the model and we get predict values then find the errors"
   ]
  },
  {
   "cell_type": "code",
   "execution_count": 9,
   "id": "6566300e",
   "metadata": {},
   "outputs": [
    {
     "name": "stdout",
     "output_type": "stream",
     "text": [
      "Performance of the model on test data :\n",
      "\n",
      "MAE = 1.887379141862766e-15\n",
      "MSE = 6.212279628615468e-30\n",
      "RMSE = 2.4924445086331347e-15\n",
      "R_2 = 1.0\n"
     ]
    }
   ],
   "source": [
    "from sklearn.metrics import mean_absolute_error,r2_score,mean_squared_error\n",
    "y_pred2 = reg.predict(X_test)\n",
    "print(f'Performance of the model on test data :\\n')\n",
    "print(f'MAE = {mean_absolute_error(y_test, y_pred2)}')\n",
    "print(f'MSE = {mean_squared_error(y_test, y_pred2)}')\n",
    "print(f'RMSE = {np.sqrt(mean_squared_error(y_test, y_pred2))}')\n",
    "print(f'R_2 = {r2_score(y_test, y_pred2)}')"
   ]
  },
  {
   "cell_type": "markdown",
   "id": "cb19e3d4",
   "metadata": {},
   "source": [
    "CONCLUSION : We can say that testing data best fits for the LinearRegression model that we trained"
   ]
  }
 ],
 "metadata": {
  "kernelspec": {
   "display_name": "Python 3 (ipykernel)",
   "language": "python",
   "name": "python3"
  },
  "language_info": {
   "codemirror_mode": {
    "name": "ipython",
    "version": 3
   },
   "file_extension": ".py",
   "mimetype": "text/x-python",
   "name": "python",
   "nbconvert_exporter": "python",
   "pygments_lexer": "ipython3",
   "version": "3.9.12"
  }
 },
 "nbformat": 4,
 "nbformat_minor": 5
}
